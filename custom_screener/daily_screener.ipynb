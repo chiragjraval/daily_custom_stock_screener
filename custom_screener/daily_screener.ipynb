{
 "cells": [
  {
   "cell_type": "markdown",
   "id": "d946b26a",
   "metadata": {},
   "source": [
    "This file is a daily screener which will go through stocks coming up in https://www.screener.in/screens/2618573/companies-with-growth-salesprofitmargin/ and identify additional information for those stocks for easy investment decisions."
   ]
  },
  {
   "cell_type": "code",
   "execution_count": null,
   "id": "afa59292",
   "metadata": {
    "vscode": {
     "languageId": "plaintext"
    }
   },
   "outputs": [],
   "source": [
    "from utils.ScreenerCompanyListParser import parse_screener_link\n",
    "from utils.ScreenerCompanyDetailParser import parse_company_detail"
   ]
  },
  {
   "cell_type": "code",
   "execution_count": null,
   "id": "3d18574d",
   "metadata": {
    "vscode": {
     "languageId": "plaintext"
    }
   },
   "outputs": [],
   "source": [
    "# Fetch the HTML content\n",
    "screener_link = \"https://www.screener.in/screens/2618573/companies-with-growth-salesprofitmargin/\"\n",
    "\n",
    "# Parse the screener link to get the list of companies\n",
    "companies_metadata = parse_screener_link(screener_link)\n",
    "print(f\"Total companies found: {len(companies_metadata)}\")\n",
    "\n",
    "# Iterate through the list of companies and fetch their details\n",
    "for company_metadata in companies_metadata[:1]:\n",
    "    try:\n",
    "        # Parse the company detail page\n",
    "        company_detail = parse_company_detail(company_metadata)\n",
    "        print(f\"Company: {company_metadata.company_name}, Details: {company_detail}\")\n",
    "    except Exception as e:\n",
    "        print(f\"Error parsing company {company_metadata.company_name}: {e.with_traceback()}\")"
   ]
  }
 ],
 "metadata": {
  "language_info": {
   "name": "python"
  }
 },
 "nbformat": 4,
 "nbformat_minor": 5
}
